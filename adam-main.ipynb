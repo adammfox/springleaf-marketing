{
 "cells": [
  {
   "cell_type": "code",
   "execution_count": 11,
   "metadata": {
    "collapsed": false,
    "scrolled": true
   },
   "outputs": [
    {
     "name": "stdout",
     "output_type": "stream",
     "text": [
      "Populating the interactive namespace from numpy and matplotlib\n"
     ]
    }
   ],
   "source": [
    "import numpy as np\n",
    "import pandas as pd\n",
    "import random as rd\n",
    "from collections import defaultdict\n",
    "from sklearn import linear_model, datasets\n",
    "from sklearn.cross_validation import train_test_split\n",
    "from sklearn.metrics import roc_auc_score\n",
    "import matplotlib.pyplot as plt\n",
    "from sklearn.metrics import mutual_info_score\n",
    "import entropy_estimators as ee\n",
    "from scipy import stats\n",
    "from sklearn import preprocessing\n",
    "from sklearn.preprocessing import Imputer\n",
    "%pylab inline"
   ]
  },
  {
   "cell_type": "code",
   "execution_count": 2,
   "metadata": {
    "collapsed": false
   },
   "outputs": [
    {
     "name": "stderr",
     "output_type": "stream",
     "text": [
      "/Users/adam/anaconda/lib/python2.7/site-packages/pandas/io/parsers.py:1170: DtypeWarning: Columns (8,9,10,11,12,43,157,196,214,225,228,229,231,235,238) have mixed types. Specify dtype option on import or set low_memory=False.\n",
      "  data = self._reader.read(nrows)\n"
     ]
    }
   ],
   "source": [
    "train = pd.read_csv('train.csv')\n",
    "train = train.set_index('ID')"
   ]
  },
  {
   "cell_type": "code",
   "execution_count": 58,
   "metadata": {
    "collapsed": true
   },
   "outputs": [],
   "source": [
    "samp = train.loc[rd.sample(train.index, 5000)]"
   ]
  },
  {
   "cell_type": "code",
   "execution_count": 59,
   "metadata": {
    "collapsed": false
   },
   "outputs": [],
   "source": [
    "# Variable types\n",
    "vartypes = train.dtypes\n",
    "vartypes\n",
    "\n",
    "cat_df = train.loc[:, vartypes[vartypes=='O'].index]\n",
    "#int_df = train.loc[:, vartypes[vartypes=='int64'].index]\n",
    "#float_df = train.loc[:, vartypes[vartypes=='float64'].index]\n",
    "num_df=train.loc[:, vartypes[vartypes=='float64'].index | vartypes[vartypes=='int64'].index]"
   ]
  },
  {
   "cell_type": "code",
   "execution_count": 32,
   "metadata": {
    "collapsed": false
   },
   "outputs": [
    {
     "data": {
      "text/plain": [
       "int64      1405\n",
       "float64     477\n",
       "object       51\n",
       "dtype: int64"
      ]
     },
     "execution_count": 32,
     "metadata": {},
     "output_type": "execute_result"
    }
   ],
   "source": [
    "# Variable types\n",
    "vartypes = train.dtypes\n",
    "vartypes.value_counts()"
   ]
  },
  {
   "cell_type": "code",
   "execution_count": 60,
   "metadata": {
    "collapsed": false,
    "scrolled": true
   },
   "outputs": [],
   "source": [
    "#Remove features of int_df that only have a single value\n",
    "numun=num_df.apply(lambda x: x.nunique())\n",
    "#Determine which columns have only one entry\n",
    "ii = np.where(numun == 1)[0]\n",
    "\n",
    "#Remove Columns with only one variable\n",
    "num_df.drop(num_df.columns[ii], axis=1, inplace=True)"
   ]
  },
  {
   "cell_type": "code",
   "execution_count": 12,
   "metadata": {
    "collapsed": false
   },
   "outputs": [],
   "source": [
    "#Now we will Impute float_df, replacing all ``null'' with the...mean?  No-use most frequent.  mean will give you \n",
    "#decimals which don't make sense here.  Ok-this didn't make any difference. \n",
    "#Warning - takes about 8 minutes\n",
    "imp=preprocessing.Imputer(strategy='mean');\n",
    "num_df=imp.fit_transform(num_df)"
   ]
  },
  {
   "cell_type": "code",
   "execution_count": 26,
   "metadata": {
    "collapsed": false
   },
   "outputs": [],
   "source": [
    "Xtrain,Xtest,Ytrain,Ytest = train_test_split(num_df[:,0:1839],train['target'],test_size=0.33)"
   ]
  },
  {
   "cell_type": "code",
   "execution_count": 29,
   "metadata": {
    "collapsed": false
   },
   "outputs": [
    {
     "name": "stdout",
     "output_type": "stream",
     "text": [
      "1.0\n",
      "0.75776185301\n"
     ]
    }
   ],
   "source": [
    "RForest=RandomForestClassifier(n_estimators=75)\n",
    "model=RForest.fit(Xtrain,Ytrain)\n",
    "predtrain = RForest.predict_proba(Xtrain)\n",
    "predtest = RForest.predict_proba(Xtest)\n",
    "print roc_auc_score(Ytrain,predtrain[:,1])\n",
    "print roc_auc_score(Ytest,predtest[:,1])"
   ]
  },
  {
   "cell_type": "code",
   "execution_count": 423,
   "metadata": {
    "collapsed": false
   },
   "outputs": [
    {
     "name": "stdout",
     "output_type": "stream",
     "text": [
      "1\n",
      "2\n",
      "3\n"
     ]
    },
    {
     "ename": "KeyError",
     "evalue": "10",
     "output_type": "error",
     "traceback": [
      "\u001b[0;31m---------------------------------------------------------------------------\u001b[0m",
      "\u001b[0;31mKeyError\u001b[0m                                  Traceback (most recent call last)",
      "\u001b[0;32m<ipython-input-423-6b25f28ea78a>\u001b[0m in \u001b[0;36m<module>\u001b[0;34m()\u001b[0m\n\u001b[1;32m     12\u001b[0m     \u001b[0;32mfor\u001b[0m \u001b[0mjj\u001b[0m \u001b[0;32min\u001b[0m \u001b[0mrange\u001b[0m\u001b[0;34m(\u001b[0m\u001b[0;36m0\u001b[0m\u001b[0;34m,\u001b[0m\u001b[0mlen\u001b[0m\u001b[0;34m(\u001b[0m\u001b[0mVct\u001b[0m\u001b[0;34m)\u001b[0m\u001b[0;34m-\u001b[0m\u001b[0;36m1\u001b[0m\u001b[0;34m)\u001b[0m\u001b[0;34m:\u001b[0m\u001b[0;34m\u001b[0m\u001b[0m\n\u001b[1;32m     13\u001b[0m         \u001b[0;31m#lets get rid of everything that appears, say, more than 500 times\u001b[0m\u001b[0;34m\u001b[0m\u001b[0;34m\u001b[0m\u001b[0m\n\u001b[0;32m---> 14\u001b[0;31m         \u001b[0;32mif\u001b[0m \u001b[0mVct\u001b[0m\u001b[0;34m[\u001b[0m\u001b[0mjj\u001b[0m\u001b[0;34m]\u001b[0m\u001b[0;34m>\u001b[0m\u001b[0;36m500\u001b[0m\u001b[0;34m:\u001b[0m\u001b[0;34m\u001b[0m\u001b[0m\n\u001b[0m\u001b[1;32m     15\u001b[0m             \u001b[0;31m#lets also require that it be, say, 10 times bigger than the median value\u001b[0m\u001b[0;34m\u001b[0m\u001b[0;34m\u001b[0m\u001b[0m\n\u001b[1;32m     16\u001b[0m             \u001b[0;32mif\u001b[0m \u001b[0;36m10\u001b[0m\u001b[0;34m*\u001b[0m\u001b[0mVls\u001b[0m\u001b[0;34m[\u001b[0m\u001b[0mjj\u001b[0m\u001b[0;34m]\u001b[0m\u001b[0;34m>\u001b[0m\u001b[0mmed\u001b[0m\u001b[0;34m:\u001b[0m\u001b[0;34m\u001b[0m\u001b[0m\n",
      "\u001b[0;32m/Users/adam/anaconda/lib/python2.7/site-packages/pandas/core/series.pyc\u001b[0m in \u001b[0;36m__getitem__\u001b[0;34m(self, key)\u001b[0m\n\u001b[1;32m    519\u001b[0m     \u001b[0;32mdef\u001b[0m \u001b[0m__getitem__\u001b[0m\u001b[0;34m(\u001b[0m\u001b[0mself\u001b[0m\u001b[0;34m,\u001b[0m \u001b[0mkey\u001b[0m\u001b[0;34m)\u001b[0m\u001b[0;34m:\u001b[0m\u001b[0;34m\u001b[0m\u001b[0m\n\u001b[1;32m    520\u001b[0m         \u001b[0;32mtry\u001b[0m\u001b[0;34m:\u001b[0m\u001b[0;34m\u001b[0m\u001b[0m\n\u001b[0;32m--> 521\u001b[0;31m             \u001b[0mresult\u001b[0m \u001b[0;34m=\u001b[0m \u001b[0mself\u001b[0m\u001b[0;34m.\u001b[0m\u001b[0mindex\u001b[0m\u001b[0;34m.\u001b[0m\u001b[0mget_value\u001b[0m\u001b[0;34m(\u001b[0m\u001b[0mself\u001b[0m\u001b[0;34m,\u001b[0m \u001b[0mkey\u001b[0m\u001b[0;34m)\u001b[0m\u001b[0;34m\u001b[0m\u001b[0m\n\u001b[0m\u001b[1;32m    522\u001b[0m \u001b[0;34m\u001b[0m\u001b[0m\n\u001b[1;32m    523\u001b[0m             \u001b[0;32mif\u001b[0m \u001b[0;32mnot\u001b[0m \u001b[0mnp\u001b[0m\u001b[0;34m.\u001b[0m\u001b[0misscalar\u001b[0m\u001b[0;34m(\u001b[0m\u001b[0mresult\u001b[0m\u001b[0;34m)\u001b[0m\u001b[0;34m:\u001b[0m\u001b[0;34m\u001b[0m\u001b[0m\n",
      "\u001b[0;32m/Users/adam/anaconda/lib/python2.7/site-packages/pandas/core/index.pyc\u001b[0m in \u001b[0;36mget_value\u001b[0;34m(self, series, key)\u001b[0m\n\u001b[1;32m   1593\u001b[0m \u001b[0;34m\u001b[0m\u001b[0m\n\u001b[1;32m   1594\u001b[0m         \u001b[0;32mtry\u001b[0m\u001b[0;34m:\u001b[0m\u001b[0;34m\u001b[0m\u001b[0m\n\u001b[0;32m-> 1595\u001b[0;31m             \u001b[0;32mreturn\u001b[0m \u001b[0mself\u001b[0m\u001b[0;34m.\u001b[0m\u001b[0m_engine\u001b[0m\u001b[0;34m.\u001b[0m\u001b[0mget_value\u001b[0m\u001b[0;34m(\u001b[0m\u001b[0ms\u001b[0m\u001b[0;34m,\u001b[0m \u001b[0mk\u001b[0m\u001b[0;34m)\u001b[0m\u001b[0;34m\u001b[0m\u001b[0m\n\u001b[0m\u001b[1;32m   1596\u001b[0m         \u001b[0;32mexcept\u001b[0m \u001b[0mKeyError\u001b[0m \u001b[0;32mas\u001b[0m \u001b[0me1\u001b[0m\u001b[0;34m:\u001b[0m\u001b[0;34m\u001b[0m\u001b[0m\n\u001b[1;32m   1597\u001b[0m             \u001b[0;32mif\u001b[0m \u001b[0mlen\u001b[0m\u001b[0;34m(\u001b[0m\u001b[0mself\u001b[0m\u001b[0;34m)\u001b[0m \u001b[0;34m>\u001b[0m \u001b[0;36m0\u001b[0m \u001b[0;32mand\u001b[0m \u001b[0mself\u001b[0m\u001b[0;34m.\u001b[0m\u001b[0minferred_type\u001b[0m \u001b[0;32min\u001b[0m \u001b[0;34m[\u001b[0m\u001b[0;34m'integer'\u001b[0m\u001b[0;34m,\u001b[0m\u001b[0;34m'boolean'\u001b[0m\u001b[0;34m]\u001b[0m\u001b[0;34m:\u001b[0m\u001b[0;34m\u001b[0m\u001b[0m\n",
      "\u001b[0;32mpandas/index.pyx\u001b[0m in \u001b[0;36mpandas.index.IndexEngine.get_value (pandas/index.c:3113)\u001b[0;34m()\u001b[0m\n",
      "\u001b[0;32mpandas/index.pyx\u001b[0m in \u001b[0;36mpandas.index.IndexEngine.get_value (pandas/index.c:2844)\u001b[0;34m()\u001b[0m\n",
      "\u001b[0;32mpandas/index.pyx\u001b[0m in \u001b[0;36mpandas.index.IndexEngine.get_loc (pandas/index.c:3704)\u001b[0;34m()\u001b[0m\n",
      "\u001b[0;32mpandas/hashtable.pyx\u001b[0m in \u001b[0;36mpandas.hashtable.Int64HashTable.get_item (pandas/hashtable.c:7224)\u001b[0;34m()\u001b[0m\n",
      "\u001b[0;32mpandas/hashtable.pyx\u001b[0m in \u001b[0;36mpandas.hashtable.Int64HashTable.get_item (pandas/hashtable.c:7162)\u001b[0;34m()\u001b[0m\n",
      "\u001b[0;31mKeyError\u001b[0m: 10"
     ]
    }
   ],
   "source": [
    "#Step 1: Run through data, change everything that a) is much bigger than median and \n",
    "#b)has many values to NaN\n",
    "\n",
    "for ii in range(0,1):\n",
    "#for ii in range(0,int_df.shape[1]-1):\n",
    "    #Determine what number/numbers to replace\n",
    "    Vls=sort(pd.unique(int_df.iloc[:,ii]))\n",
    "    #NOT DOING WHAT YOU THINK IT IS!  Vct=int_df.iloc[:,ii].value_counts(ascending=True)\n",
    "    #lets look at all values 10*med, add if they appear more than 500 times.\n",
    "    med=median(Vls)\n",
    "    todel=[]\n",
    "    for jj in range(0,len(Vct)-1):\n",
    "        #lets get rid of everything that appears, say, more than 500 times\n",
    "        if Vct[jj]>500:\n",
    "            #lets also require that it be, say, 10 times bigger than the median value\n",
    "            if 10*Vls[jj]>med:\n",
    "                print Vls[jj]\n",
    "                todel.append(Vls[jj])\n",
    "                \n",
    "    #find all locations where array == an element of todel\n",
    "    #set all these locations to NaN\n",
    "    for kk in range(0,len(todel)-1):\n",
    "        todelloc = np.where(int_df.iloc[:,ii] == todel[kk])[0]\n",
    "        int_df.iloc[todelloc,ii]=float('NaN');\n",
    "        \n",
    "        "
   ]
  },
  {
   "cell_type": "code",
   "execution_count": 445,
   "metadata": {
    "collapsed": false
   },
   "outputs": [
    {
     "name": "stdout",
     "output_type": "stream",
     "text": [
      "0     133180\n",
      "1       7897\n",
      "2       2626\n",
      "3        673\n",
      "99       601\n",
      "4        167\n",
      "5         51\n",
      "6         16\n",
      "7         12\n",
      "8          4\n",
      "11         2\n",
      "18         1\n",
      "9          1\n",
      "dtype: int64\n"
     ]
    }
   ],
   "source": [
    "#pd.unique(int_df.iloc[:,4])\n",
    "#999: 0, 1 note: 99 not  bigger\n",
    "#99: 3 4 note: 99 much bigger\n",
    "# for line 26 we have both 9999 and 9996.  line 45 has 9998 and 9999\n",
    "#Line 120 has 999999996, 999999998, 999999999\n",
    "#some lines have negative -99999 or something\n",
    "#If much bigger than median, has many values\n",
    "print int_df.iloc[:,3].value_counts();\n",
    "#todelloc = np.where(int_df.iloc[:,3] == 1)[0]\n",
    "#print int_df.iloc[todelloc,3]"
   ]
  },
  {
   "cell_type": "code",
   "execution_count": 451,
   "metadata": {
    "collapsed": false
   },
   "outputs": [
    {
     "name": "stdout",
     "output_type": "stream",
     "text": [
      "9855\n",
      "11910\n",
      "13018\n",
      "13447\n",
      "16524\n",
      "17461\n",
      "20511\n",
      "25658\n",
      "27429\n",
      "33001\n",
      "36093\n",
      "36534\n",
      "40061\n",
      "40317\n",
      "40848\n",
      "41185\n",
      "43410\n",
      "43629\n",
      "45875\n",
      "55156\n",
      "56206\n",
      "57191\n",
      "58586\n",
      "60229\n",
      "62100\n",
      "62455\n",
      "65682\n",
      "66061\n",
      "69329\n",
      "70000\n",
      "74293\n",
      "79003\n",
      "79268\n",
      "84358\n",
      "85066\n",
      "87829\n",
      "88207\n",
      "91939\n",
      "94335\n",
      "94705\n",
      "94729\n",
      "96148\n",
      "97962\n",
      "105196\n",
      "112029\n",
      "115558\n",
      "117069\n",
      "122319\n",
      "122527\n",
      "124410\n",
      "133942\n",
      "135973\n",
      "138754\n",
      "139295\n",
      "143274\n",
      "143915\n",
      "56\n",
      "56\n",
      "1.0\n"
     ]
    }
   ],
   "source": [
    "gs=0;\n",
    "k=0\n",
    "for b in range(0,145230):\n",
    "    if math.isnan(float_df.iloc[b,k]):\n",
    "        print b\n",
    "        gs=gs+1;\n",
    "        \n",
    "    \n",
    "\n",
    "print gs\n",
    "print float_df.iloc[:,k].isnull().sum()\n",
    "print float(gs)/float_df.iloc[:,k].isnull().sum()"
   ]
  },
  {
   "cell_type": "code",
   "execution_count": 8,
   "metadata": {
    "collapsed": false
   },
   "outputs": [
    {
     "data": {
      "text/plain": [
       "array([ 2.,  0.,  0.,  0.,  2.,  0.,  0.,  0.,  0.,  0.])"
      ]
     },
     "execution_count": 8,
     "metadata": {},
     "output_type": "execute_result"
    }
   ],
   "source": [
    "float_df[9850:9860,0]"
   ]
  },
  {
   "cell_type": "code",
   "execution_count": 460,
   "metadata": {
    "collapsed": false
   },
   "outputs": [
    {
     "data": {
      "text/plain": [
       "ID\n",
       "19545     2\n",
       "19547     0\n",
       "19549     0\n",
       "19551     0\n",
       "19553     2\n",
       "19557   NaN\n",
       "19559     0\n",
       "19561     0\n",
       "19566     0\n",
       "19567     0\n",
       "Name: VAR_0006, dtype: float64"
      ]
     },
     "execution_count": 460,
     "metadata": {},
     "output_type": "execute_result"
    }
   ],
   "source": [
    "float_df.iloc[9850:9860,0]"
   ]
  },
  {
   "cell_type": "code",
   "execution_count": 29,
   "metadata": {
    "collapsed": false
   },
   "outputs": [
    {
     "name": "stdout",
     "output_type": "stream",
     "text": [
      "(290462, 1841)\n",
      "(145231, 1403)\n",
      "(145231, 441)\n"
     ]
    }
   ],
   "source": [
    "print full_df.shape\n",
    "print int_df.shape\n",
    "print float_df.shape"
   ]
  },
  {
   "cell_type": "code",
   "execution_count": 27,
   "metadata": {
    "collapsed": false
   },
   "outputs": [
    {
     "data": {
      "text/plain": [
       "array([ 997.        ,    0.        ,    0.        , ...,  138.45199028,\n",
       "        138.45199028,  138.45199028])"
      ]
     },
     "execution_count": 27,
     "metadata": {},
     "output_type": "execute_result"
    }
   ],
   "source": [
    "full_df[:,1840-447]"
   ]
  },
  {
   "cell_type": "code",
   "execution_count": 18,
   "metadata": {
    "collapsed": false
   },
   "outputs": [
    {
     "data": {
      "text/plain": [
       "(145231, 1841)"
      ]
     },
     "execution_count": 18,
     "metadata": {},
     "output_type": "execute_result"
    }
   ],
   "source": [
    "num_df.shape"
   ]
  },
  {
   "cell_type": "code",
   "execution_count": 105,
   "metadata": {
    "collapsed": false
   },
   "outputs": [],
   "source": [
    "Vls=pd.unique(num_df.iloc[:,966])\n",
    "todelloc = np.where(num_df.iloc[:,1003] == Vls[5])[0]"
   ]
  },
  {
   "cell_type": "code",
   "execution_count": 107,
   "metadata": {
    "collapsed": false
   },
   "outputs": [
    {
     "name": "stdout",
     "output_type": "stream",
     "text": [
      "[ 0  3  4  2  1 99  5  7 12  8  6  9 10 13 11 14 15 19]\n",
      "63610\n",
      "8.5\n"
     ]
    }
   ],
   "source": [
    "print Vls\n",
    "\n",
    "print todelloc[5]\n",
    "print median(Vls)"
   ]
  },
  {
   "cell_type": "code",
   "execution_count": 108,
   "metadata": {
    "collapsed": false
   },
   "outputs": [],
   "source": [
    "#Step 1: Run through data, change everything that a) is much bigger than median and \n",
    "#b)has many values to NaN\n",
    "\n",
    "for ii in range(966,967):\n",
    "#for ii in range(0,int_df.shape[1]-1):\n",
    "    #Determine what number/numbers to replace\n",
    "    Vls=pd.unique(num_df.iloc[:,ii])\n",
    "    for jj in range(0,len(Vls)-1):\n",
    "        if Vls[jj]>10*median(Vls):\n",
    "            todelloc = np.where(num_df.iloc[:,ii] == Vls[jj])[0]\n",
    "            if len(todelloc)>500:\n",
    "                num_df.iloc[todelloc,ii]=float('NaN');\n"
   ]
  },
  {
   "cell_type": "code",
   "execution_count": 110,
   "metadata": {
    "collapsed": false
   },
   "outputs": [
    {
     "name": "stdout",
     "output_type": "stream",
     "text": [
      "[  0.   3.   4.   2.   1.  nan   5.   7.  12.   8.   6.   9.  10.  13.  11.\n",
      "  14.  15.  19.]\n"
     ]
    }
   ],
   "source": [
    "Vls=pd.unique(num_df.iloc[:,966])\n",
    "#todelloc = np.where(num_df.iloc[:,1003] == Vls[5])[0]\n",
    "print Vls"
   ]
  },
  {
   "cell_type": "code",
   "execution_count": null,
   "metadata": {
    "collapsed": true
   },
   "outputs": [],
   "source": []
  }
 ],
 "metadata": {
  "kernelspec": {
   "display_name": "Python 2",
   "language": "python",
   "name": "python2"
  },
  "language_info": {
   "codemirror_mode": {
    "name": "ipython",
    "version": 2
   },
   "file_extension": ".py",
   "mimetype": "text/x-python",
   "name": "python",
   "nbconvert_exporter": "python",
   "pygments_lexer": "ipython2",
   "version": "2.7.10"
  }
 },
 "nbformat": 4,
 "nbformat_minor": 0
}
